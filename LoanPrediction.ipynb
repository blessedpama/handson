{
 "cells": [
  {
   "cell_type": "markdown",
   "metadata": {},
   "source": [
    "**<h2>Loan Status Prediction</h2>**\n",
    "From the given dataset, build a machine learning model which can be used to predict the loan to be approved or to be rejected for an applicant.\n",
    "| Column | Description |\n",
    "|--------|--------------|\n",
    "|  Loan_ID   |     A unique loan ID   | \n",
    "|  Gender   |     male or female  |  \n",
    "|  Married      |  Weather Married(yes) or Not Marttied(No)   | \n",
    "|  Dependents\t| Number of persons depending on the client  |\n",
    "|  Education\t| Applicant Education(Graduate or Undergraduate). |\n",
    "|  Self_Employed\t|Self-employed (Yes/No). |\n",
    "|  ApplicantIncome    |Income of the applicant  |\n",
    "|  CoapplicantIncome    |Co-applicant income|\n",
    "|  LoanAmount   |Loan amount in thousands. |\n",
    "|  Loan_Amount_Term  | Terms of the loan in months|\n",
    "|  Credit_History\t| Credit history meets guidelines  |\n",
    "|  Property_Area\t|Applicants are living either Urban, Semi-Urban or Rural  |\n",
    "|  Loan_Status  |  Loan approved (Y/N).  |\n"
   ]
  },
  {
   "cell_type": "markdown",
   "metadata": {},
   "source": [
    "### Question 1: Data Loading and Observation\n",
    "\n",
    "- Load the data named `loan_data` and store it in the variable `df`. \n",
    "- Observe the first few rows of the dataframe and perform some preliminary analysis."
   ]
  },
  {
   "cell_type": "code",
   "execution_count": 1,
   "metadata": {},
   "outputs": [],
   "source": [
    "#import statements\n",
    "import pandas as pd\n",
    "import numpy as np"
   ]
  },
  {
   "cell_type": "code",
   "execution_count": 33,
   "metadata": {},
   "outputs": [],
   "source": [
    "df = pd.read_csv('loan_data.csv')"
   ]
  },
  {
   "cell_type": "code",
   "execution_count": 5,
   "metadata": {},
   "outputs": [],
   "source": [
    "head = df.head()"
   ]
  },
  {
   "cell_type": "code",
   "execution_count": 6,
   "metadata": {},
   "outputs": [
    {
     "name": "stdout",
     "output_type": "stream",
     "text": [
      "Please check if the variable to the question has been assigned properly\n"
     ]
    }
   ],
   "source": [
    "################ Don't edit or delete the cell, Run this cell to test your code  ################\n",
    "try:\n",
    "    q1 = head\n",
    "    from loanpred import prediction\n",
    "    prediction.save_ans1(q1)\n",
    "except:\n",
    "    print(\"Please check if the variable to the question has been assigned properly\")"
   ]
  },
  {
   "cell_type": "markdown",
   "metadata": {},
   "source": [
    "### Question 2: Handling Missing Values\n",
    "\n",
    "- Replace the missing values present in 'Credit_History' column with the mean value.\n",
    "- Replace the missing values present in other columns in the dataset with their respective mode value.\n",
    "- Convert Dependents column datatype as 'float64'. \n",
    "- Drop the Loan_ID column. \n",
    "- Assign a copy of the final cleaned dataframe to the variable `new_df`."
   ]
  },
  {
   "cell_type": "code",
   "execution_count": 40,
   "metadata": {},
   "outputs": [
    {
     "data": {
      "text/html": [
       "<div>\n",
       "<style scoped>\n",
       "    .dataframe tbody tr th:only-of-type {\n",
       "        vertical-align: middle;\n",
       "    }\n",
       "\n",
       "    .dataframe tbody tr th {\n",
       "        vertical-align: top;\n",
       "    }\n",
       "\n",
       "    .dataframe thead th {\n",
       "        text-align: right;\n",
       "    }\n",
       "</style>\n",
       "<table border=\"1\" class=\"dataframe\">\n",
       "  <thead>\n",
       "    <tr style=\"text-align: right;\">\n",
       "      <th></th>\n",
       "      <th>Gender</th>\n",
       "      <th>Married</th>\n",
       "      <th>Dependents</th>\n",
       "      <th>Education</th>\n",
       "      <th>Self_Employed</th>\n",
       "      <th>ApplicantIncome</th>\n",
       "      <th>CoapplicantIncome</th>\n",
       "      <th>LoanAmount</th>\n",
       "      <th>Loan_Amount_Term</th>\n",
       "      <th>Credit_History</th>\n",
       "      <th>Property_Area</th>\n",
       "      <th>Loan_Status</th>\n",
       "    </tr>\n",
       "  </thead>\n",
       "  <tbody>\n",
       "    <tr>\n",
       "      <th>0</th>\n",
       "      <td>Male</td>\n",
       "      <td>Yes</td>\n",
       "      <td>1</td>\n",
       "      <td>Graduate</td>\n",
       "      <td>No</td>\n",
       "      <td>4583</td>\n",
       "      <td>1508.0</td>\n",
       "      <td>128.0</td>\n",
       "      <td>360.0</td>\n",
       "      <td>1.0</td>\n",
       "      <td>Rural</td>\n",
       "      <td>0.0</td>\n",
       "    </tr>\n",
       "    <tr>\n",
       "      <th>1</th>\n",
       "      <td>Male</td>\n",
       "      <td>Yes</td>\n",
       "      <td>0</td>\n",
       "      <td>Graduate</td>\n",
       "      <td>Yes</td>\n",
       "      <td>3000</td>\n",
       "      <td>0.0</td>\n",
       "      <td>66.0</td>\n",
       "      <td>360.0</td>\n",
       "      <td>1.0</td>\n",
       "      <td>Urban</td>\n",
       "      <td>1.0</td>\n",
       "    </tr>\n",
       "    <tr>\n",
       "      <th>2</th>\n",
       "      <td>Male</td>\n",
       "      <td>Yes</td>\n",
       "      <td>0</td>\n",
       "      <td>Not Graduate</td>\n",
       "      <td>No</td>\n",
       "      <td>2583</td>\n",
       "      <td>2358.0</td>\n",
       "      <td>120.0</td>\n",
       "      <td>360.0</td>\n",
       "      <td>1.0</td>\n",
       "      <td>Urban</td>\n",
       "      <td>1.0</td>\n",
       "    </tr>\n",
       "    <tr>\n",
       "      <th>3</th>\n",
       "      <td>Male</td>\n",
       "      <td>No</td>\n",
       "      <td>0</td>\n",
       "      <td>Graduate</td>\n",
       "      <td>No</td>\n",
       "      <td>6000</td>\n",
       "      <td>0.0</td>\n",
       "      <td>141.0</td>\n",
       "      <td>360.0</td>\n",
       "      <td>1.0</td>\n",
       "      <td>Urban</td>\n",
       "      <td>1.0</td>\n",
       "    </tr>\n",
       "    <tr>\n",
       "      <th>4</th>\n",
       "      <td>Male</td>\n",
       "      <td>Yes</td>\n",
       "      <td>0</td>\n",
       "      <td>Not Graduate</td>\n",
       "      <td>No</td>\n",
       "      <td>2333</td>\n",
       "      <td>1516.0</td>\n",
       "      <td>95.0</td>\n",
       "      <td>360.0</td>\n",
       "      <td>1.0</td>\n",
       "      <td>Urban</td>\n",
       "      <td>1.0</td>\n",
       "    </tr>\n",
       "    <tr>\n",
       "      <th>...</th>\n",
       "      <td>...</td>\n",
       "      <td>...</td>\n",
       "      <td>...</td>\n",
       "      <td>...</td>\n",
       "      <td>...</td>\n",
       "      <td>...</td>\n",
       "      <td>...</td>\n",
       "      <td>...</td>\n",
       "      <td>...</td>\n",
       "      <td>...</td>\n",
       "      <td>...</td>\n",
       "      <td>...</td>\n",
       "    </tr>\n",
       "    <tr>\n",
       "      <th>276</th>\n",
       "      <td>Male</td>\n",
       "      <td>No</td>\n",
       "      <td>0</td>\n",
       "      <td>Graduate</td>\n",
       "      <td>No</td>\n",
       "      <td>6500</td>\n",
       "      <td>0.0</td>\n",
       "      <td>105.0</td>\n",
       "      <td>360.0</td>\n",
       "      <td>0.0</td>\n",
       "      <td>Rural</td>\n",
       "      <td>0.0</td>\n",
       "    </tr>\n",
       "    <tr>\n",
       "      <th>277</th>\n",
       "      <td>Male</td>\n",
       "      <td>Yes</td>\n",
       "      <td>0</td>\n",
       "      <td>Graduate</td>\n",
       "      <td>No</td>\n",
       "      <td>2425</td>\n",
       "      <td>2340.0</td>\n",
       "      <td>143.0</td>\n",
       "      <td>360.0</td>\n",
       "      <td>1.0</td>\n",
       "      <td>Semiurban</td>\n",
       "      <td>1.0</td>\n",
       "    </tr>\n",
       "    <tr>\n",
       "      <th>278</th>\n",
       "      <td>Male</td>\n",
       "      <td>No</td>\n",
       "      <td>0</td>\n",
       "      <td>Graduate</td>\n",
       "      <td>No</td>\n",
       "      <td>3750</td>\n",
       "      <td>0.0</td>\n",
       "      <td>100.0</td>\n",
       "      <td>360.0</td>\n",
       "      <td>1.0</td>\n",
       "      <td>Urban</td>\n",
       "      <td>1.0</td>\n",
       "    </tr>\n",
       "    <tr>\n",
       "      <th>279</th>\n",
       "      <td>Male</td>\n",
       "      <td>No</td>\n",
       "      <td>0</td>\n",
       "      <td>Graduate</td>\n",
       "      <td>No</td>\n",
       "      <td>1926</td>\n",
       "      <td>1851.0</td>\n",
       "      <td>50.0</td>\n",
       "      <td>360.0</td>\n",
       "      <td>1.0</td>\n",
       "      <td>Semiurban</td>\n",
       "      <td>1.0</td>\n",
       "    </tr>\n",
       "    <tr>\n",
       "      <th>280</th>\n",
       "      <td>Female</td>\n",
       "      <td>Yes</td>\n",
       "      <td>0</td>\n",
       "      <td>Not Graduate</td>\n",
       "      <td>Yes</td>\n",
       "      <td>7142</td>\n",
       "      <td>0.0</td>\n",
       "      <td>138.0</td>\n",
       "      <td>360.0</td>\n",
       "      <td>1.0</td>\n",
       "      <td>Rural</td>\n",
       "      <td>1.0</td>\n",
       "    </tr>\n",
       "  </tbody>\n",
       "</table>\n",
       "<p>281 rows × 12 columns</p>\n",
       "</div>"
      ],
      "text/plain": [
       "     Gender Married Dependents     Education Self_Employed  ApplicantIncome  \\\n",
       "0      Male     Yes          1      Graduate            No             4583   \n",
       "1      Male     Yes          0      Graduate           Yes             3000   \n",
       "2      Male     Yes          0  Not Graduate            No             2583   \n",
       "3      Male      No          0      Graduate            No             6000   \n",
       "4      Male     Yes          0  Not Graduate            No             2333   \n",
       "..      ...     ...        ...           ...           ...              ...   \n",
       "276    Male      No          0      Graduate            No             6500   \n",
       "277    Male     Yes          0      Graduate            No             2425   \n",
       "278    Male      No          0      Graduate            No             3750   \n",
       "279    Male      No          0      Graduate            No             1926   \n",
       "280  Female     Yes          0  Not Graduate           Yes             7142   \n",
       "\n",
       "     CoapplicantIncome  LoanAmount  Loan_Amount_Term  Credit_History  \\\n",
       "0               1508.0       128.0             360.0             1.0   \n",
       "1                  0.0        66.0             360.0             1.0   \n",
       "2               2358.0       120.0             360.0             1.0   \n",
       "3                  0.0       141.0             360.0             1.0   \n",
       "4               1516.0        95.0             360.0             1.0   \n",
       "..                 ...         ...               ...             ...   \n",
       "276                0.0       105.0             360.0             0.0   \n",
       "277             2340.0       143.0             360.0             1.0   \n",
       "278                0.0       100.0             360.0             1.0   \n",
       "279             1851.0        50.0             360.0             1.0   \n",
       "280                0.0       138.0             360.0             1.0   \n",
       "\n",
       "    Property_Area  Loan_Status  \n",
       "0           Rural          0.0  \n",
       "1           Urban          1.0  \n",
       "2           Urban          1.0  \n",
       "3           Urban          1.0  \n",
       "4           Urban          1.0  \n",
       "..            ...          ...  \n",
       "276         Rural          0.0  \n",
       "277     Semiurban          1.0  \n",
       "278         Urban          1.0  \n",
       "279     Semiurban          1.0  \n",
       "280         Rural          1.0  \n",
       "\n",
       "[281 rows x 12 columns]"
      ]
     },
     "execution_count": 40,
     "metadata": {},
     "output_type": "execute_result"
    }
   ],
   "source": [
    "# mean_value = df.Credit_History.mean()\n",
    "# df.Credit_History=df.Credit_History.fillna(value=mean_value) \n",
    "# df.Credit_History.value_counts()\n",
    "# for col_name in df.columns: \n",
    "#     mean_value = df[col_name].mode()\n",
    "#     df[col_name]=df[col_name].fillna(value=mean_value) \n",
    "convert_dict = {'Loan_Status':float\n",
    "                }\n",
    "\n",
    "def fun1(x):\n",
    "    if x=='Y':\n",
    "        return 1\n",
    "    else:\n",
    "        return 0\n",
    "# df['Loan_Status']=df.Loan_Status.apply(fun1)\n",
    "df.Loan_Status.value_counts()\n",
    "df=df.astype(convert_dict)\n",
    "# df.drop('Loan_ID',inplace=True,axis=1)\n",
    "df"
   ]
  },
  {
   "cell_type": "code",
   "execution_count": 41,
   "metadata": {},
   "outputs": [
    {
     "name": "stdout",
     "output_type": "stream",
     "text": [
      "Processing c:\\users\\apar58285\\onedrive - groupe ipsen\\all\\t3\\hands-on\\10 may\\project\\kickoffs-classification-loan_prediction\\desktop\\project\\kickoffs-classification-loan_prediction\\.tests\\loanpred-0.1-py3-none-any.whl\n",
      "Note: you may need to restart the kernel to use updated packages.\n"
     ]
    },
    {
     "name": "stderr",
     "output_type": "stream",
     "text": [
      "WARNING: Requirement 'Desktop/Project/kickoffs-classification-loan_prediction/.tests/loanpred-0.1-py3-none-any.whl' looks like a filename, but the file does not exist\n",
      "ERROR: Could not install packages due to an OSError: [Errno 2] No such file or directory: 'C:\\\\Users\\\\apar58285\\\\OneDrive - Groupe IPSEN\\\\ALL\\\\t3\\\\Hands-on\\\\10 may\\\\Project\\\\kickoffs-classification-loan_prediction\\\\Desktop\\\\Project\\\\kickoffs-classification-loan_prediction\\\\.tests\\\\loanpred-0.1-py3-none-any.whl'\n",
      "\n"
     ]
    }
   ],
   "source": [
    "pip install Desktop/Project/kickoffs-classification-loan_prediction/.tests/loanpred-0.1-py3-none-any.whl"
   ]
  },
  {
   "cell_type": "code",
   "execution_count": 35,
   "metadata": {},
   "outputs": [
    {
     "data": {
      "text/plain": [
       "Y    206\n",
       "N     75\n",
       "Name: Loan_Status, dtype: int64"
      ]
     },
     "execution_count": 35,
     "metadata": {},
     "output_type": "execute_result"
    }
   ],
   "source": [
    "df.Loan_Status.value_counts()"
   ]
  },
  {
   "cell_type": "code",
   "execution_count": null,
   "metadata": {},
   "outputs": [],
   "source": [
    "new_df = _"
   ]
  },
  {
   "cell_type": "code",
   "execution_count": null,
   "metadata": {},
   "outputs": [],
   "source": [
    "################ Don't edit or delete the cell, Run this cell to test your code  ################\n",
    "try:\n",
    "    q2 = new_df\n",
    "    from loanpred import prediction\n",
    "    prediction.save_ans2(q2)\n",
    "except:\n",
    "    print(\"Please check if the variable to the question has been assigned properly\")"
   ]
  },
  {
   "cell_type": "markdown",
   "metadata": {},
   "source": [
    "### Question 3: Converting categorical data into numerical form\n",
    "\n",
    "- Using Label encoder, Convert the 'Gender','Married','Education','Self_Employed','Loan_Status', 'Property_Area' column into numerical form.\n",
    "- Assign a copy of the final cleaned dataframe to the variable `new_df1` for testing."
   ]
  },
  {
   "cell_type": "code",
   "execution_count": null,
   "metadata": {},
   "outputs": [],
   "source": [
    "new_df1 = _"
   ]
  },
  {
   "cell_type": "code",
   "execution_count": null,
   "metadata": {},
   "outputs": [],
   "source": [
    "################ Don't edit or delete the cell, Run this cell to test your code  ################\n",
    "try:\n",
    "    q3 = new_df1\n",
    "    from loanpred import prediction\n",
    "    prediction.save_ans3(q3)\n",
    "except:\n",
    "    print(\"Please check if the variable to the question has been assigned properly\")"
   ]
  },
  {
   "cell_type": "markdown",
   "metadata": {},
   "source": [
    "### Question 4: Feature Selection, Split the dataset and fit the model.\n",
    "\n",
    "- Create a variable named `X` and `y` as independent and dependent variable(Loan_Status).\n",
    "- Using **train_test_split** function,split the dataset with training set size of 20% and random state equal to 42.\n",
    "- Fit the features using standard scalar into variable `X_train` and `X_test`."
   ]
  },
  {
   "cell_type": "code",
   "execution_count": null,
   "metadata": {},
   "outputs": [],
   "source": [
    "X_train = _\n",
    "X_test = _"
   ]
  },
  {
   "cell_type": "code",
   "execution_count": null,
   "metadata": {},
   "outputs": [],
   "source": [
    "################ Don't edit or delete the cell, Run this cell to test your code  ################\n",
    "try:\n",
    "    q4 = [X_train,X_test]\n",
    "    from loanpred import prediction\n",
    "    prediction.save_ans4(q4)\n",
    "except:\n",
    "    print(\"Please check if the variable to the question has been assigned properly\")"
   ]
  },
  {
   "cell_type": "markdown",
   "metadata": {},
   "source": [
    "### Question 5: Fit the model and get the accuracy score of the model\n",
    "\n",
    "- Fit the model using Decision tree classifier which has minimum number of sample in leaf node equal to 35.\n",
    "- Assign the fine-tuned model to the variable `model`.\n",
    "- Predict using the model and store it in the variable `y_pred`.\n",
    "- Get the accuracy score of the model, round off accuracy score upto two decimal places and store it in the variable `acc_score` \n"
   ]
  },
  {
   "cell_type": "code",
   "execution_count": null,
   "metadata": {},
   "outputs": [],
   "source": [
    "model = _"
   ]
  },
  {
   "cell_type": "code",
   "execution_count": null,
   "metadata": {},
   "outputs": [],
   "source": [
    "y_pred = _\n",
    "acc_score = _"
   ]
  },
  {
   "cell_type": "code",
   "execution_count": null,
   "metadata": {},
   "outputs": [],
   "source": [
    "################ Don't edit or delete the cell, Run this cell to test your code  ################\n",
    "try:\n",
    "    q5 = [model, y_pred, acc_score]\n",
    "    from loanpred import prediction\n",
    "    prediction.save_ans5(q5)\n",
    "except:\n",
    "    print(\"Please check if the variable to the question has been assigned properly\")"
   ]
  },
  {
   "cell_type": "markdown",
   "metadata": {},
   "source": [
    "### Question 6: Prediction\n",
    "\n",
    "- Load the dataset `Loan_validation.csv` and perform all the data cleaning and pre-processing tasks in the same manner as the training data.  \n",
    "- Predict the validation dataset and store the result in the variable `y_pred_val` as a list."
   ]
  },
  {
   "cell_type": "code",
   "execution_count": null,
   "metadata": {},
   "outputs": [],
   "source": [
    "y_pred_val = _"
   ]
  },
  {
   "cell_type": "code",
   "execution_count": null,
   "metadata": {},
   "outputs": [],
   "source": [
    "################ Don't edit or delete the cell, Run this cell to test your code  ################\n",
    "try:\n",
    "    q6 = y_pred_val\n",
    "    from loanpred import prediction\n",
    "    prediction.save_ans6(q6)\n",
    "except:\n",
    "    print(\"Please check if the variable to the question has been assigned properly\")"
   ]
  },
  {
   "cell_type": "markdown",
   "metadata": {},
   "source": [
    "**Note : After you have finished solving the questions, please run the below cell to save your answers for testing.**"
   ]
  },
  {
   "cell_type": "code",
   "execution_count": null,
   "metadata": {},
   "outputs": [],
   "source": [
    "from loanpred import prediction\n",
    "try:\n",
    "    q1 = head\n",
    "    q2 = new_df\n",
    "    q3 = new_df1\n",
    "    q4 = [X_train,X_test]\n",
    "    q5 = [model, y_pred, acc_score]\n",
    "    q6 = y_pred_val\n",
    "    prediction.save_answer(q1,q2,q3,q4,q5,q6)\n",
    " \n",
    "except:\n",
    "    print(\"Assign the answers to all the variables properly.\")\n",
    "    prediction.remove_pickle()\n",
    "    try:\n",
    "        q1 = head\n",
    "        prediction.save_ans1(q1)\n",
    "    except:\n",
    "        pass\n",
    "    try:\n",
    "        q2 = new_df\n",
    "        prediction.save_ans2(q2)\n",
    "    except:\n",
    "        pass\n",
    "    try:\n",
    "        q3 = new_df1\n",
    "        prediction.save_ans3(q3)\n",
    "    except:\n",
    "        pass\n",
    "    try:\n",
    "        q4 = [X_train,X_test]\n",
    "        prediction.save_ans4(q4)\n",
    "    except:\n",
    "        pass\n",
    "    try:\n",
    "        q5 = [model, y_pred, acc_score]\n",
    "        prediction.save_ans5(q5)\n",
    "    except:\n",
    "        pass\n",
    "    try:\n",
    "        q6 = y_pred_val\n",
    "        prediction.save_ans6(q6)\n",
    "    except:\n",
    "        pass\n",
    "    \n",
    "    "
   ]
  }
 ],
 "metadata": {
  "kernelspec": {
   "display_name": "Python 3 (ipykernel)",
   "language": "python",
   "name": "python3"
  },
  "language_info": {
   "codemirror_mode": {
    "name": "ipython",
    "version": 3
   },
   "file_extension": ".py",
   "mimetype": "text/x-python",
   "name": "python",
   "nbconvert_exporter": "python",
   "pygments_lexer": "ipython3",
   "version": "3.9.13"
  }
 },
 "nbformat": 4,
 "nbformat_minor": 4
}
